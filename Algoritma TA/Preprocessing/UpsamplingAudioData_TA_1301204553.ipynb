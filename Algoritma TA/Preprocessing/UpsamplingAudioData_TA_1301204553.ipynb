{
  "nbformat": 4,
  "nbformat_minor": 0,
  "metadata": {
    "colab": {
      "provenance": []
    },
    "kernelspec": {
      "name": "python3",
      "display_name": "Python 3"
    },
    "language_info": {
      "name": "python"
    }
  },
  "cells": [
    {
      "cell_type": "code",
      "execution_count": null,
      "metadata": {
        "colab": {
          "base_uri": "https://localhost:8080/"
        },
        "id": "fv0Tlw4W41_G",
        "outputId": "ace89266-0885-4265-c396-e97e0eff6fb2"
      },
      "outputs": [
        {
          "output_type": "stream",
          "name": "stdout",
          "text": [
            "Collecting pydub\n",
            "  Downloading pydub-0.25.1-py2.py3-none-any.whl (32 kB)\n",
            "Installing collected packages: pydub\n",
            "Successfully installed pydub-0.25.1\n"
          ]
        }
      ],
      "source": [
        "!pip install pydub"
      ]
    },
    {
      "cell_type": "code",
      "source": [
        "import os\n",
        "from pydub import AudioSegment\n",
        "from glob import glob\n",
        "from google.colab import drive"
      ],
      "metadata": {
        "id": "tzFjzLkFhVUq"
      },
      "execution_count": null,
      "outputs": []
    },
    {
      "cell_type": "code",
      "source": [
        "drive.mount('/content/drive')\n",
        "directory = \"/content\"\n",
        "base_path = \"/content/drive/MyDrive/TugasAkhirMohAxelBismillah/Dataset/Dataset1/Myoscope\""
      ],
      "metadata": {
        "id": "azlB97g1kVNr",
        "colab": {
          "base_uri": "https://localhost:8080/"
        },
        "outputId": "0668de24-7662-4307-ff22-d1d397543672"
      },
      "execution_count": null,
      "outputs": [
        {
          "output_type": "stream",
          "name": "stdout",
          "text": [
            "Mounted at /content/drive\n"
          ]
        }
      ]
    },
    {
      "cell_type": "code",
      "source": [
        "# Fungsi untuk meningkatkan sampling rate dan bit rate\n",
        "def increase_sample_and_bit_rate(audio_path, new_sample_rate=44100, new_bit_depth=16):\n",
        "    # Load the audio file\n",
        "    audio = AudioSegment.from_file(audio_path)\n",
        "\n",
        "    # Mengubah frame rate (sampling rate) dan sample width (bit depth)\n",
        "    # pydub menyimpan bit depth dalam bytes, jadi kita ubah dari bit ke byte\n",
        "    audio = audio.set_frame_rate(new_sample_rate).set_sample_width(new_bit_depth // 8)\n",
        "\n",
        "    return audio"
      ],
      "metadata": {
        "id": "nS2dNnb048Bw"
      },
      "execution_count": null,
      "outputs": []
    },
    {
      "cell_type": "code",
      "source": [
        "# Fungsi untuk memproses dan menyimpan file audio yang di-upsample\n",
        "def process_and_save_files(audio_files, output_directory, new_sample_rate=44100, new_bit_depth=16):\n",
        "    os.makedirs(output_directory, exist_ok=True)\n",
        "    for file_path in audio_files:\n",
        "        # Meningkatkan sample rate dan bit rate\n",
        "        upsampled_audio = increase_sample_and_bit_rate(file_path, new_sample_rate, new_bit_depth)\n",
        "        # Menyimpan file audio yang di-upsample\n",
        "        output_file_path = os.path.join(output_directory, os.path.basename(file_path))\n",
        "        upsampled_audio.export(output_file_path, format='wav')"
      ],
      "metadata": {
        "id": "W6rnCYuMhfDA"
      },
      "execution_count": null,
      "outputs": []
    },
    {
      "cell_type": "code",
      "source": [
        "# Direktori untuk menyimpan hasil upsample\n",
        "output_base_path = \"/content/drive/MyDrive/TugasAkhirMohAxelBismillah/Dataset/Dataset After Preprocessing/UpsampledDataset\""
      ],
      "metadata": {
        "id": "ixfiGcvRhhSE"
      },
      "execution_count": null,
      "outputs": []
    },
    {
      "cell_type": "code",
      "source": [
        "# Proses dataset Myocardial\n",
        "MI_path = os.path.join(base_path, 'Myocardial')\n",
        "audio_files_MI = glob(MI_path + '/*.wav')\n",
        "output_MI_path = os.path.join(output_base_path, 'Myocardial')\n",
        "process_and_save_files(audio_files_MI, output_MI_path)\n",
        "\n",
        "# Proses dataset Normal\n",
        "normal_path = os.path.join(base_path, 'Normal')\n",
        "audio_files_normal = glob(normal_path + '/*.wav')\n",
        "output_normal_path = os.path.join(output_base_path, 'Normal')\n",
        "process_and_save_files(audio_files_normal, output_normal_path)"
      ],
      "metadata": {
        "id": "seBwI8zz6MjQ"
      },
      "execution_count": null,
      "outputs": []
    }
  ]
}